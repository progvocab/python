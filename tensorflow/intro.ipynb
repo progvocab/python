{
  "nbformat": 4,
  "nbformat_minor": 0,
  "metadata": {
    "kernelspec": {
      "display_name": "Python 3",
      "language": "python",
      "name": "python3"
    },
    "language_info": {
      "codemirror_mode": {
        "name": "ipython",
        "version": 3
      },
      "file_extension": ".py",
      "mimetype": "text/x-python",
      "name": "python",
      "nbconvert_exporter": "python",
      "pygments_lexer": "ipython3",
      "version": "3.6.12"
    },
    "colab": {
      "name": "intro.ipynb",
      "provenance": [],
      "include_colab_link": true
    }
  },
  "cells": [
    {
      "cell_type": "markdown",
      "metadata": {
        "id": "view-in-github",
        "colab_type": "text"
      },
      "source": [
        "<a href=\"https://colab.research.google.com/github/progvocab/python/blob/main/tensorflow/intro.ipynb\" target=\"_parent\"><img src=\"https://colab.research.google.com/assets/colab-badge.svg\" alt=\"Open In Colab\"/></a>"
      ]
    },
    {
      "cell_type": "code",
      "metadata": {
        "id": "gHdtPcxqz_DL"
      },
      "source": [
        "%matplotlib inline"
      ],
      "execution_count": null,
      "outputs": []
    },
    {
      "cell_type": "markdown",
      "metadata": {
        "id": "nBAOhXNtxcEm"
      },
      "source": [
        "Importing required libraries"
      ]
    },
    {
      "cell_type": "code",
      "metadata": {
        "id": "WfYtD70A0Do9"
      },
      "source": [
        "import tensorflow as tf\n",
        "import numpy as np\n",
        "import matplotlib.pyplot as plt"
      ],
      "execution_count": 1,
      "outputs": []
    },
    {
      "cell_type": "markdown",
      "metadata": {
        "id": "ceAGg7ZD0Eev"
      },
      "source": [
        "Creating a graph"
      ]
    },
    {
      "cell_type": "code",
      "metadata": {
        "id": "xjIH8sZxyVPs"
      },
      "source": [
        "def make_kernel(a):\n",
        "   a = np.asarray(a)\n",
        "   a = a.reshape(list(a.shape) + [1,1])\n",
        "   return tf.constant(a, dtype=1)\n",
        "\n",
        "def simple_conv(x, k):\n",
        "   \"\"\"A simplified 2D convolution operation\"\"\"\n",
        "   x = tf.expand_dims(tf.expand_dims(x, 0), -1)\n",
        "   y = tf.nn.depthwise_conv2d(x, k, [1, 1, 1, 1], padding = 'SAME')\n",
        "   return y[0, :, :, 0]\n",
        "\n",
        "def laplace(x):\n",
        "   \"\"\"Compute the 2D laplacian of an array\"\"\"\n",
        "   laplace_k = make_kernel([[0.5, 1.0, 0.5], [1.0, -6., 1.0], [0.5, 1.0, 0.5]])\n",
        "   return simple_conv(x, laplace_k)\n",
        "   \n",
        "\"\"\"sess = tf.InteractiveSession()\"\"\"\n",
        "sess=tf.compat.v1.InteractiveSession()"
      ],
      "execution_count": 3,
      "outputs": []
    }
  ]
}